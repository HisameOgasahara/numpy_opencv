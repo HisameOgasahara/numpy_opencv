{
 "cells": [
  {
   "cell_type": "code",
   "execution_count": null,
   "metadata": {},
   "outputs": [
    {
     "name": "stdout",
     "output_type": "stream",
     "text": [
      "{'muzi': 1, 'frodo': 2, 'apeach': 0, 'neo': 2}\n"
     ]
    }
   ],
   "source": [
    "k = 2\n",
    "\n",
    "id_list = [\"muzi\", \"frodo\", \"apeach\", \"neo\"]\n",
    "report = [\"muzi frodo\", \"apeach frodo\", \"frodo neo\", \"muzi neo\", \"apeach muzi\"]\n",
    "report_pure = list(set(report))\n",
    "\n",
    "zero_count = []  #유저별 신고당함 회수를 만들기 위해\n",
    "while(len(zero_count)!=len(id_list)):\n",
    "    zero_count.append(0)\n",
    "\n",
    "result = [] #유저별 신고한 회수를 만들기 위해\n",
    "while(len(result)!=len(id_list)):\n",
    "    result.append(0)\n",
    "\n",
    "user_count = dict(zip(id_list, zero_count)) #유저별 신고한 회수\n",
    "user2user = dict(\"\",[]) #<피신고유저, 피신고유저를 신고한 유저들(배열)>\n",
    "id2report = dict(\"\",[]) #<유저,유저가 신고한 유저들(배열)>\n",
    "\n",
    "\n",
    "for name in report_pure: #<유저, 신고당한회수>\n",
    "    part = name.split()\n",
    "    if part[0]:\n",
    "        user_count[part[1]]+=1\n",
    "        id2report[part[0]] = part[1]\n",
    "\n",
    "\n",
    "for key, value in user_count:\n",
    "    if user_count[key] >= k:\n",
    "\n",
    "\n",
    "\n",
    "\n",
    "\n",
    "\n",
    "print(user_count)\n",
    "\n"
   ]
  },
  {
   "cell_type": "code",
   "execution_count": null,
   "metadata": {},
   "outputs": [
    {
     "name": "stdout",
     "output_type": "stream",
     "text": [
      "[['muzi', 'frodo'], ['apeach', 'frodo'], ['frodo', 'neo'], ['muzi', 'neo'], ['apeach', 'muzi']]\n"
     ]
    }
   ],
   "source": [
    "k = 2\n",
    "\n",
    "id_list = [\"muzi\", \"frodo\", \"apeach\", \"neo\"]\n",
    "report = [\"muzi frodo\", \"apeach frodo\", \"frodo neo\", \"muzi neo\", \"apeach muzi\"]\n",
    "report_pure = list(set(report))\n",
    "\n",
    "id2report = dict([])\n",
    "\n",
    "for name in report_pure: #<유저, 신고당한회수>\n",
    "    part = name.split()\n",
    "    if part[0]:\n",
    "        a = []\n",
    "        id2report[part[0]] = a.append(part[1])\n"
   ]
  },
  {
   "cell_type": "code",
   "execution_count": 12,
   "metadata": {},
   "outputs": [
    {
     "name": "stdout",
     "output_type": "stream",
     "text": [
      "{'muzi': 1, 'frodo': 1, 'apeach': 1, 'neo': 0}\n"
     ]
    }
   ],
   "source": [
    "k = 2\n",
    "\n",
    "id_list = [\"muzi\", \"frodo\", \"apeach\", \"neo\"]\n",
    "report = [\"muzi frodo\", \"apeach frodo\", \"frodo neo\", \"muzi neo\", \"apeach muzi\"]\n",
    "report_pure = list(set(report))\n",
    "\n",
    "zero_count = []  #유저별 신고당함 회수를 만들기 위해\n",
    "while(len(zero_count)!=len(id_list)):\n",
    "    zero_count.append(0)\n",
    "\n",
    "user_count = dict(zip(id_list, zero_count)) #유저별 신고한 회수\n",
    "id2report = {\"\":[]} #<유저,유저가 신고한 유저들(배열)>\n",
    "result_dict = dict(zip(id_list, zero_count)) #result로 가기전\n",
    "result = []\n",
    "\n",
    "\n",
    "for name in report_pure: #<유저, 신고당한회수>\n",
    "    part = name.split()\n",
    "    if part[0]:\n",
    "        id2report[part[0]] = part[1]\n",
    "\n",
    "\n",
    "for key, value in id2report.items():\n",
    "    if len(id2report[key]) >= k:\n",
    "        result_dict[key]+=1\n",
    "\n",
    "\n",
    "print(result_dict)\n",
    "\n"
   ]
  }
 ],
 "metadata": {
  "kernelspec": {
   "display_name": "base",
   "language": "python",
   "name": "python3"
  },
  "language_info": {
   "codemirror_mode": {
    "name": "ipython",
    "version": 3
   },
   "file_extension": ".py",
   "mimetype": "text/x-python",
   "name": "python",
   "nbconvert_exporter": "python",
   "pygments_lexer": "ipython3",
   "version": "3.12.4"
  }
 },
 "nbformat": 4,
 "nbformat_minor": 2
}
