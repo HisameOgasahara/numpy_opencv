{
 "cells": [
  {
   "cell_type": "code",
   "execution_count": 1,
   "metadata": {},
   "outputs": [],
   "source": [
    "import numpy as np"
   ]
  },
  {
   "cell_type": "code",
   "execution_count": 4,
   "metadata": {},
   "outputs": [
    {
     "name": "stdout",
     "output_type": "stream",
     "text": [
      "2.23606797749979\n",
      "2.23606797749979\n"
     ]
    }
   ],
   "source": [
    "a = np.array([1,2])\n",
    "print(np.linalg.norm(a))\n",
    "\n",
    "print(np.sqrt(np.dot(a,a)))"
   ]
  },
  {
   "cell_type": "code",
   "execution_count": null,
   "metadata": {},
   "outputs": [
    {
     "name": "stdout",
     "output_type": "stream",
     "text": [
      "[[1 2 3]\n",
      " [4 5 6]\n",
      " [7 8 9]]\n",
      "\n",
      "[[1 0 0]\n",
      " [0 1 0]\n",
      " [0 0 1]]\n",
      "\n",
      "True\n",
      "True\n"
     ]
    }
   ],
   "source": [
    "#항등행렬\n",
    "\n",
    "import numpy as np\n",
    "A = np.arange(1, 10).reshape(3,3)\n",
    "print(A)\n",
    "\n",
    "print()\n",
    "\n",
    "I = np.eye(3,3,dtype=np.int32)\n",
    "print(I)\n",
    "\n",
    "print()\n",
    "\n",
    "#행렬곱셈에 대한 항등원\n",
    "print((np.dot(A,I)==A).all())\n",
    "print((np.dot(I,A)==A).all())"
   ]
  },
  {
   "cell_type": "code",
   "execution_count": null,
   "metadata": {},
   "outputs": [
    {
     "name": "stdout",
     "output_type": "stream",
     "text": [
      "[[1 2]\n",
      " [3 4]]\n",
      "\n",
      "[[-2.   1. ]\n",
      " [ 1.5 -0.5]]\n",
      "\n",
      "[[1.00000000e+00 1.11022302e-16]\n",
      " [0.00000000e+00 1.00000000e+00]]\n",
      "\n",
      "[[1. 0.]\n",
      " [0. 1.]]\n"
     ]
    }
   ],
   "source": [
    "#역행렬\n",
    "\n",
    "A = np.arange(1,5).reshape(2,2)\n",
    "print(A)\n",
    "\n",
    "print()\n",
    "\n",
    "invA = np.linalg.inv(A)\n",
    "print(invA)\n",
    "\n",
    "print()\n",
    "\n",
    "I = np.dot(A,invA)\n",
    "print(I)\n",
    "\n",
    "print()\n",
    "\n",
    "#근사값으로 나오니까 불필요한 소수점 제거\n",
    "print(np.round(I))"
   ]
  },
  {
   "cell_type": "code",
   "execution_count": null,
   "metadata": {},
   "outputs": [],
   "source": []
  }
 ],
 "metadata": {
  "kernelspec": {
   "display_name": "base",
   "language": "python",
   "name": "python3"
  },
  "language_info": {
   "codemirror_mode": {
    "name": "ipython",
    "version": 3
   },
   "file_extension": ".py",
   "mimetype": "text/x-python",
   "name": "python",
   "nbconvert_exporter": "python",
   "pygments_lexer": "ipython3",
   "version": "3.12.4"
  }
 },
 "nbformat": 4,
 "nbformat_minor": 2
}
