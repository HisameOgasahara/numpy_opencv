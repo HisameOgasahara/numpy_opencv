{
 "cells": [
  {
   "cell_type": "code",
   "execution_count": null,
   "metadata": {},
   "outputs": [
    {
     "name": "stdout",
     "output_type": "stream",
     "text": [
      "[[2 4]\n",
      " [6 8]] (2, 2)\n",
      "\n",
      "[[2 2]\n",
      " [2 2]] (2, 2)\n"
     ]
    }
   ],
   "source": [
    "### broadcasting\n",
    "import numpy as np\n",
    "\n",
    "A = np.arange(2,10,2).reshape(2,2)\n",
    "print(A, A.shape)\n",
    "\n",
    "print()\n",
    "\n",
    "B = np.ones((2,2),dtype=np.int32)*2\n",
    "print(B, B.shape)"
   ]
  },
  {
   "cell_type": "code",
   "execution_count": null,
   "metadata": {},
   "outputs": [
    {
     "name": "stdout",
     "output_type": "stream",
     "text": [
      "[[ 4  6]\n",
      " [ 8 10]]\n",
      "\n",
      "[[0 2]\n",
      " [4 6]]\n",
      "\n",
      "[[ 4  8]\n",
      " [12 16]]\n",
      "\n",
      "[[1. 2.]\n",
      " [3. 4.]]\n"
     ]
    }
   ],
   "source": [
    "\n",
    "## elementwise임에 유의\n",
    "\n",
    "print(A+B)\n",
    "print()\n",
    "print(A-B)\n",
    "print()\n",
    "print(A*B)\n",
    "print()\n",
    "print(A/B)"
   ]
  },
  {
   "cell_type": "code",
   "execution_count": 8,
   "metadata": {},
   "outputs": [
    {
     "name": "stdout",
     "output_type": "stream",
     "text": [
      "[[12 12]\n",
      " [28 28]]\n"
     ]
    }
   ],
   "source": [
    "## 행렬곱\n",
    "\n",
    "# np.dot(A, B) or A.dot(B) or A@B\n",
    "\n",
    "print(np.dot(A,B))"
   ]
  },
  {
   "cell_type": "code",
   "execution_count": 14,
   "metadata": {},
   "outputs": [
    {
     "name": "stdout",
     "output_type": "stream",
     "text": [
      "[[1 2]\n",
      " [3 4]\n",
      " [5 6]] (3, 2)\n",
      "\n",
      "[[1 2]\n",
      " [3 4]] (2, 2)\n",
      "\n",
      "[[ 7 10]\n",
      " [15 22]\n",
      " [23 34]]\n"
     ]
    }
   ],
   "source": [
    "A = np.arange(1,7).reshape(3,2)\n",
    "print(A, A.shape)\n",
    "\n",
    "print()\n",
    "\n",
    "B = np.arange(1,5).reshape(2,2)\n",
    "print(B, B.shape)\n",
    "\n",
    "print()\n",
    "\n",
    "print(A.dot(B))\n"
   ]
  },
  {
   "cell_type": "markdown",
   "metadata": {},
   "source": [
    "브로드 캐스팅의 시작"
   ]
  },
  {
   "cell_type": "code",
   "execution_count": null,
   "metadata": {},
   "outputs": [
    {
     "name": "stdout",
     "output_type": "stream",
     "text": [
      "(2, 3, 4, 5)\n",
      "(5,)\n",
      "\n",
      "[[[[  2   4   6   8  10]\n",
      "   [  7   9  11  13  15]\n",
      "   [ 12  14  16  18  20]\n",
      "   [ 17  19  21  23  25]]\n",
      "\n",
      "  [[ 22  24  26  28  30]\n",
      "   [ 27  29  31  33  35]\n",
      "   [ 32  34  36  38  40]\n",
      "   [ 37  39  41  43  45]]\n",
      "\n",
      "  [[ 42  44  46  48  50]\n",
      "   [ 47  49  51  53  55]\n",
      "   [ 52  54  56  58  60]\n",
      "   [ 57  59  61  63  65]]]\n",
      "\n",
      "\n",
      " [[[ 62  64  66  68  70]\n",
      "   [ 67  69  71  73  75]\n",
      "   [ 72  74  76  78  80]\n",
      "   [ 77  79  81  83  85]]\n",
      "\n",
      "  [[ 82  84  86  88  90]\n",
      "   [ 87  89  91  93  95]\n",
      "   [ 92  94  96  98 100]\n",
      "   [ 97  99 101 103 105]]\n",
      "\n",
      "  [[102 104 106 108 110]\n",
      "   [107 109 111 113 115]\n",
      "   [112 114 116 118 120]\n",
      "   [117 119 121 123 125]]]]\n"
     ]
    }
   ],
   "source": [
    "# 브로드 캐스팅 가능 여부: 차원표기상 두 행렬(차원이 적은 쪽은 앞에 1을 여러번 붙여 두 행렬의 차원을 맞춘다)의 각 차원의 값을 비교할 때 둘 중 하나가 1이거나 둘 다 같은 경우는 가능.\n",
    "\n",
    "A = np.arange(1, 121).reshape(2,3,4,5)\n",
    "B = np.arange(1,6)\n",
    "print(A.shape)\n",
    "print(B.shape)\n",
    "\n",
    "print()\n",
    "\n",
    "print(A+B)"
   ]
  },
  {
   "cell_type": "code",
   "execution_count": 18,
   "metadata": {},
   "outputs": [
    {
     "name": "stdout",
     "output_type": "stream",
     "text": [
      "(1, 4)\n",
      "(3,)\n"
     ]
    },
    {
     "ename": "ValueError",
     "evalue": "operands could not be broadcast together with shapes (1,4) (3,) ",
     "output_type": "error",
     "traceback": [
      "\u001b[1;31m---------------------------------------------------------------------------\u001b[0m",
      "\u001b[1;31mValueError\u001b[0m                                Traceback (most recent call last)",
      "Cell \u001b[1;32mIn[18], line 9\u001b[0m\n\u001b[0;32m      6\u001b[0m B \u001b[38;5;241m=\u001b[39m np\u001b[38;5;241m.\u001b[39marange(\u001b[38;5;241m1\u001b[39m,\u001b[38;5;241m4\u001b[39m)\n\u001b[0;32m      7\u001b[0m \u001b[38;5;28mprint\u001b[39m(B\u001b[38;5;241m.\u001b[39mshape)\n\u001b[1;32m----> 9\u001b[0m \u001b[38;5;28mprint\u001b[39m(A\u001b[38;5;241m+\u001b[39mB)\n",
      "\u001b[1;31mValueError\u001b[0m: operands could not be broadcast together with shapes (1,4) (3,) "
     ]
    }
   ],
   "source": [
    "# 브로드 캐스팅이 안 되는 경우 예: (1,4), (3.) \n",
    "\n",
    "A = np.arange(1,5).reshape(1,4)\n",
    "print(A.shape)\n",
    "\n",
    "B = np.arange(1,4)\n",
    "print(B.shape)\n",
    "\n",
    "print(A+B)"
   ]
  },
  {
   "cell_type": "code",
   "execution_count": 21,
   "metadata": {},
   "outputs": [
    {
     "name": "stdout",
     "output_type": "stream",
     "text": [
      "[[ 2  4  6  8]\n",
      " [ 6  8 10 12]\n",
      " [10 12 14 16]]\n"
     ]
    }
   ],
   "source": [
    "# 브로드캐스팅 가능 (3,4), (4, )\n",
    "\n",
    "A = np.arange(1, 13).reshape(3,4)\n",
    "B = np.arange(1,5)\n",
    "print(A+B)\n",
    "\n"
   ]
  },
  {
   "cell_type": "markdown",
   "metadata": {},
   "source": [
    "추가하는 축 방향으로 배열을 복붙하는게 원리임. 1로 맞추는 건 차원추가, 이를 행렬 사이즈가 동일해질 때 까지 복붙. 그래서 차원값이 같은 경우와 1인 경우만 계산가능. \n",
    "# 요컨데 핵심은 행렬이 선형종속(복붙이니)이 되도록 행이나 열을 만드는 것이다."
   ]
  },
  {
   "cell_type": "markdown",
   "metadata": {},
   "source": []
  }
 ],
 "metadata": {
  "kernelspec": {
   "display_name": "base",
   "language": "python",
   "name": "python3"
  },
  "language_info": {
   "codemirror_mode": {
    "name": "ipython",
    "version": 3
   },
   "file_extension": ".py",
   "mimetype": "text/x-python",
   "name": "python",
   "nbconvert_exporter": "python",
   "pygments_lexer": "ipython3",
   "version": "3.12.4"
  }
 },
 "nbformat": 4,
 "nbformat_minor": 2
}
