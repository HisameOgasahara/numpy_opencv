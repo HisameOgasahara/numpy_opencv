{
 "cells": [
  {
   "cell_type": "code",
   "execution_count": 5,
   "metadata": {},
   "outputs": [],
   "source": [
    "import cv2\n",
    "def on_trackbar(x):\n",
    "    pass\n",
    "\n",
    "img_src = cv2.imread('images/shape1.png',cv2.IMREAD_COLOR)\n",
    "height, width = img_src.shape[:2]\n",
    "\n",
    "img_gray = cv2.cvtColor(img_src, cv2.COLOR_BGR2GRAY)\n",
    "\n",
    "##################### 트랙바 구현 #######################\n",
    "# 1. 트랙바가 포함되어 있는 윈도우를 생성\n",
    "cv2.namedWindow(\"TrackBar\")  # 윈도우의 이름을 계속 사용\n",
    "\n",
    "# 2. 트랙바를 몇개만들것인가 정함\n",
    "# cv2.createTrackbar(\"트랙바이름\", \"윈도우이름\", 최소값,최대값, 호출함수)\n",
    "# 트랙바를 움직이면 바로 적용될때\n",
    "cv2.createTrackbar(\"threshold\", \"TrackBar\", 0,255, on_trackbar) \n",
    "# 특별한 이벤트를 적용하지 않을때\n",
    "cv2.createTrackbar(\"maxValue\", \"TrackBar\", 0,255, lambda x : x) \n",
    "\n",
    "# 3. 트랙바의 초기값 설정\n",
    "# cv2.setTrackbarPos(\"트랙바이름\",\"윈도우이름\", 초기값) \n",
    "cv2.setTrackbarPos('threshold',\"TrackBar\", 127)\n",
    "cv2.setTrackbarPos('maxValue',\"TrackBar\", 255)\n",
    "\n",
    "# 4. 트랙바는 무한루프를 통해 연속적으로 변해야 함\n",
    "while cv2.waitKey(1) != ord('q'):\n",
    "    # 5. 트랙바 값을 변수로 대입\n",
    "    # 변수이름 = cv2.getTrackbarPos(\"트랙바이름\",\"윈도우이름\")\n",
    "    thr_value = cv2.getTrackbarPos('threshold','TrackBar')\n",
    "    mav_value = cv2.getTrackbarPos('maxValue','TrackBar')\n",
    "    ret, img_dst = cv2.threshold(img_gray, thr_value, mav_value, cv2.THRESH_BINARY)\n",
    "    img_dst = cv2.bitwise_not(img_dst)\n",
    "    cv2.imshow('TrackBar',img_dst)\n",
    "########################################################\n",
    "\n",
    "\n",
    "cv2.destroyAllWindows()"
   ]
  },
  {
   "cell_type": "markdown",
   "metadata": {},
   "source": [
    "## 흐림(Blur. 스무딩이라고도 부른다) : 사진 속 먼지 등 불필요한 노이즈(보다는 아웃라이어?) 제거\n",
    "\n",
    "##원래 이미지 사이즈에 맞춰 블러필터의 크기도 맞춰야(이미지가 크다면 필터도 크게)\n",
    "- 노이즈(먼지등의 조그마한 난반사된 물체)를 제거하기 위해서 영상을 흐리게 만듬\n",
    "- 원본영상의 크기에 따라 주변픽셀의 영역을 적당히 지정해야함\n",
    "- img_dst = cv2.blur(img_src, anchor=(-1,-1), borderType=cv2.BORDER_DEFAULT) \n",
    "=> 평균을 내서 어떤 픽셀에 붙일까? 보통은 필터의 가운데에 해당되는 원본 이미지 영역에 붙인다. 그런데 원본이미지와 이미지 밖을 걸쳐야 할 때, 경계부분 처리하는 게 BORDER인자. 디폴트는 그냥 끝값 이용"
   ]
  },
  {
   "cell_type": "code",
   "execution_count": 14,
   "metadata": {},
   "outputs": [],
   "source": [
    "import cv2\n",
    "img_src = cv2.imread('images/hoshino.jpg',cv2.IMREAD_COLOR)\n",
    "height, width = img_src.shape[:2]\n",
    "###########################################\n",
    "# 블러 처리\n",
    "#img_dst = cv2.blur(img_src, (9,9), anchor=(-1,-1),borderType=cv2.BORDER_DEFAULT) #(7,7)은 필터사이즈. 보통 홀수. 앵커는 필터계산후 넣을 위치. -1,-1이면 중심점.\n",
    "img_dst = cv2.GaussianBlur(img_src, (9,9), 0)\n",
    "\n",
    "\n",
    "############################################\n",
    "cv2.imshow('src',img_src)\n",
    "cv2.imshow('blur',img_dst)\n",
    "cv2.waitKey()\n",
    "cv2.destroyAllWindows()"
   ]
  },
  {
   "cell_type": "markdown",
   "metadata": {},
   "source": [
    "## 경계선 추출\n",
    "- edge추출\n",
    "- Sobel\n",
    "- Laplacian\n",
    "- Canny (얘가 젤 좋다)"
   ]
  },
  {
   "cell_type": "code",
   "execution_count": null,
   "metadata": {},
   "outputs": [],
   "source": [
    "# sobel 에지\n",
    "\n",
    "import cv2\n",
    "\n",
    "scale = 1\n",
    "delta = 0\n",
    "ddepth = cv2.CV_16S\n",
    "\n",
    "img_src = cv2.imread('images/hisame.jpg', cv2.IMREAD_COLOR)\n",
    "img_src = cv2.GaussianBlur(img_src, (3, 3), 0)\n",
    "img_gray = cv2.cvtColor(img_src, cv2.COLOR_BGR2GRAY)\n",
    "\n",
    "# 소벨 가로마스크 적용    \n",
    "grad_x = cv2.Sobel(img_gray, ddepth, 1, 0, ksize=3, scale=scale, delta=delta, borderType=cv2.BORDER_DEFAULT) #1,0 dx방향\n",
    "grad_y = cv2.Sobel(img_gray, ddepth, 0, 1, ksize=3, scale=scale, delta=delta, borderType=cv2.BORDER_DEFAULT)\n",
    "\n",
    "#음수가 나올 수 있으니\n",
    "abs_grad_x = cv2.convertScaleAbs(grad_x)\n",
    "abs_grad_y = cv2.convertScaleAbs(grad_y)\n",
    "\n",
    "\n",
    "grad = cv2.addWeighted(abs_grad_x, 0.5, abs_grad_y, 0.5, 0)  #위에 두 그라디언트를 더하니까 색의 범위를 초과하지 않게 가중치0.5를 곱하여 머지\n",
    "\n",
    "cv2.imshow('sobel', grad)\n",
    "cv2.waitKey()\n",
    "cv2.destroyAllWindows()\n",
    "    "
   ]
  },
  {
   "cell_type": "markdown",
   "metadata": {},
   "source": [
    "라플라시안 에지"
   ]
  },
  {
   "cell_type": "code",
   "execution_count": 20,
   "metadata": {},
   "outputs": [],
   "source": [
    "import cv2 \n",
    "\n",
    "ddepth = cv2.CV_16S\n",
    "kernel_size = 3\n",
    "\n",
    "img_src = cv2.imread('images/hisame.jpg', cv2.IMREAD_COLOR) # Load an image\n",
    "img_src = cv2.GaussianBlur(img_src, (3, 3), 0)\n",
    "img_gray = cv2.cvtColor(img_src, cv2.COLOR_BGR2GRAY)\n",
    "\n",
    "img_dst = cv2.Laplacian(img_gray, ddepth, ksize=kernel_size)\n",
    "abs_dst = cv2.convertScaleAbs(img_dst)\n",
    "cv2.imshow('Laplace', abs_dst)\n",
    "cv2.waitKey(0)\n",
    "cv2.destroyAllWindows()"
   ]
  },
  {
   "cell_type": "markdown",
   "metadata": {},
   "source": [
    "캐니 에지"
   ]
  },
  {
   "cell_type": "code",
   "execution_count": 28,
   "metadata": {},
   "outputs": [],
   "source": [
    "import cv2\n",
    "\n",
    "max_lowThreshold = 100\n",
    "ratio = 3\n",
    "kernel_size = 3\n",
    " \n",
    "def CannyThreshold(val):\n",
    "    low_threshold = val\n",
    "    img_blur = cv2.blur(img_gray, (3,3))\n",
    "    detected_edges = cv2.Canny(img_blur, low_threshold, max_lowThreshold, kernel_size)\n",
    "    mask = detected_edges != 0\n",
    "    img_dst = img_src * (mask[:,:,None].astype(img_src.dtype))\n",
    "    cv2.imshow('CannyEdge', img_dst)\n",
    "    cv2.imshow('src', img_src)\n",
    " \n",
    " \n",
    "img_src = cv2.imread('images/hoshino.jpg',cv2.IMREAD_COLOR)\n",
    "img_gray = cv2.cvtColor(img_src, cv2.COLOR_BGR2GRAY)\n",
    " \n",
    "CannyThreshold(50)\n",
    "cv2.waitKey()\n",
    "cv2.destroyAllWindows()"
   ]
  },
  {
   "cell_type": "code",
   "execution_count": 24,
   "metadata": {},
   "outputs": [],
   "source": [
    "import cv2\n",
    "import numpy as np\n",
    "\n",
    "max_lowThreshold = 100\n",
    "ratio = 3\n",
    "kernel_size = 3\n",
    "\n",
    "def CannyThreshold(val):\n",
    "    low_threshold = val\n",
    "    img_blur = cv2.blur(img_gray, (3,3))\n",
    "    detected_edges = cv2.Canny(img_blur, low_threshold, low_threshold*ratio, kernel_size)\n",
    "    # More efficient masking using bitwise_and\n",
    "    img_dst = cv2.bitwise_and(img_src, img_src, mask=detected_edges)\n",
    "    cv2.imshow('CannyEdge', img_dst)\n",
    "\n",
    "try:\n",
    "    img_src = cv2.imread('images/hoshino.jpg', cv2.IMREAD_COLOR)\n",
    "    if img_src is None:\n",
    "        raise FileNotFoundError(\"Image not found.\")\n",
    "\n",
    "    img_gray = cv2.cvtColor(img_src, cv2.COLOR_BGR2GRAY)\n",
    "\n",
    "    cv2.namedWindow('CannyEdge')\n",
    "    cv2.createTrackbar('Min Threshold', 'CannyEdge', 0, max_lowThreshold, CannyThreshold)  # Add Trackbar\n",
    "\n",
    "    CannyThreshold(0)  # Initial display\n",
    "\n",
    "    cv2.waitKey(0)\n",
    "    cv2.destroyAllWindows()\n",
    "\n",
    "except FileNotFoundError as e:\n",
    "    print(f\"Error: {e}\")\n",
    "except Exception as e:\n",
    "    print(f\"An unexpected error occurred: {e}\")"
   ]
  }
 ],
 "metadata": {
  "kernelspec": {
   "display_name": "base",
   "language": "python",
   "name": "python3"
  },
  "language_info": {
   "codemirror_mode": {
    "name": "ipython",
    "version": 3
   },
   "file_extension": ".py",
   "mimetype": "text/x-python",
   "name": "python",
   "nbconvert_exporter": "python",
   "pygments_lexer": "ipython3",
   "version": "3.12.4"
  }
 },
 "nbformat": 4,
 "nbformat_minor": 2
}
